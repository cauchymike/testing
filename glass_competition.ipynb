 Volume in drive C has no label.
 Volume Serial Number is 80F2-A51A

 Directory of C:\Users\acer

05/25/2020  11:41 PM    <DIR>          .
05/25/2020  11:41 PM    <DIR>          ..
05/23/2020  01:20 PM               184 .bash_history
05/21/2020  01:50 AM    <DIR>          .conda
05/21/2020  02:29 PM               235 .gitconfig
05/22/2020  10:38 PM    <DIR>          .ipynb_checkpoints
05/05/2020  11:16 PM    <DIR>          .ipython
05/06/2020  09:11 AM    <DIR>          .jupyter
05/06/2020  02:38 AM    <DIR>          .matplotlib
01/16/2020  08:43 AM    <DIR>          3D Objects
05/21/2020  01:50 AM    <DIR>          anaconda3
05/06/2020  07:17 PM             3,038 boston_neigh.ipynb
05/09/2020  02:00 PM           125,204 breast.csv
05/10/2020  11:59 AM             4,402 breast_cancer_detc.ipynb
05/06/2020  05:23 PM    <DIR>          cache
01/16/2020  08:43 AM    <DIR>          Contacts
05/21/2020  02:26 PM    <DIR>          Desktop
05/25/2020  10:08 AM    <DIR>          Documents
05/25/2020  02:48 PM    <DIR>          Downloads
05/14/2020  08:39 PM         2,062,099 enhanced-house-price-predictions.ipynb
01/16/2020  08:43 AM    <DIR>          Favorites
05/25/2020  11:53 PM                 0 glass_competition.ipynb
05/14/2020  08:39 PM         5,875,350 house-prices-eda-nn-boosts-lin-models.ipynb
05/14/2020  08:58 PM           196,273 house-prices-lightning-fast-initial-eda.ipynb
05/14/2020  01:48 AM            87,085 house_price_competition.ipynb
05/18/2020  05:17 PM         1,789,348 house_price_regression.ipynb
01/16/2020  08:43 AM    <DIR>          Links
05/06/2020  06:09 PM           134,962 machinelearn.ipynb
05/23/2020  01:14 PM    <DIR>          machine_learning
05/05/2020  06:12 AM    <DIR>          Music
05/04/2020  08:40 PM    <DIR>          my project
05/14/2020  01:17 PM    <DIR>          OneDrive
05/21/2020  11:16 PM            23,114 output.csv
05/08/2020  03:10 AM    <DIR>          Pictures
05/05/2020  07:23 AM    <DIR>          PycharmProjects
05/21/2020  11:16 PM             8,758 sample_submission.csv
01/16/2020  08:43 AM    <DIR>          Saved Games
01/16/2020  08:45 AM    <DIR>          Searches
05/21/2020  08:35 PM         1,593,203 step-by-step-adv-house-regression.ipynb
05/21/2020  11:32 PM            23,114 submission.csv
05/24/2020  11:39 AM            19,015 submitted.xlsx
05/24/2020  08:40 PM            10,681 submitted1.xlsx
05/24/2020  08:40 PM            10,681 submitted2.xlsx
05/24/2020  09:34 PM            10,691 submitted3.xlsx
05/24/2020  09:34 PM            10,691 submitted4.xlsx
05/25/2020  10:59 AM            12,674 submitted_rfc.xlsx
05/06/2020  05:31 PM            15,187 supervised.ipynb
05/22/2020  10:36 PM            39,248 test.csv
05/22/2020  10:46 PM           220,177 titanic-tutorial-for-beginners-part-2.ipynb
05/14/2020  08:39 PM           110,496 titanic-tutorial-for-beginners-part-3.ipynb
05/22/2020  10:36 PM            93,708 train.csv
05/05/2020  11:16 PM                72 Untitled.ipynb
05/06/2020  05:54 PM                72 Untitled1.ipynb
05/06/2020  06:47 PM                72 Untitled2.ipynb
05/09/2020  01:51 PM               989 Untitled3.ipynb
05/12/2020  10:36 AM                72 Untitled4.ipynb
05/14/2020  10:06 PM               725 Untitled5.ipynb
05/18/2020  11:15 AM                72 Untitled6.ipynb
05/22/2020  10:36 PM                72 Untitled7.ipynb
05/05/2020  07:44 AM    <DIR>          Videos
              35 File(s)     12,481,764 bytes
              25 Dir(s)  167,887,433,728 bytes free
